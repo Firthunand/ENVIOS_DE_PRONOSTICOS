{
 "cells": [
  {
   "cell_type": "markdown",
   "metadata": {},
   "source": [
    "#### Instalar twilio"
   ]
  },
  {
   "cell_type": "code",
   "execution_count": null,
   "metadata": {},
   "outputs": [],
   "source": [
    "#!pip3 install twilio"
   ]
  },
  {
   "cell_type": "code",
   "execution_count": null,
   "metadata": {},
   "outputs": [],
   "source": [
    "#!pip3 install twilio requests pandas beautifulsoup4 tqdm"
   ]
  },
  {
   "cell_type": "code",
   "execution_count": null,
   "metadata": {},
   "outputs": [],
   "source": [
    "import os\n",
    "from twilio.rest import Client\n",
    "from twilio_config import *\n",
    "import time\n",
    "\n",
    "from requests import Request, Session\n",
    "from requests.exceptions import ConnectionError, Timeout, TooManyRedirects\n",
    "import json\n",
    "\n",
    "\n",
    "import pandas as pd\n",
    "import requests\n",
    "from bs4  import BeautifulSoup\n",
    "from tqdm import tqdm\n",
    "\n",
    "from datetime import datetime\n"
   ]
  },
  {
   "cell_type": "markdown",
   "metadata": {},
   "source": [
    "#### URL API"
   ]
  },
  {
   "cell_type": "code",
   "execution_count": null,
   "metadata": {},
   "outputs": [],
   "source": [
    "query = 'limache'\n",
    "api_key = API_KEY_WAPI\n",
    "\n",
    "url_clima = 'http://api.weatherapi.com/v1/forecast.json?key='+api_key+'&q='+query+'&days=1&aqi=no&alerts=no'\n",
    "url_clima"
   ]
  },
  {
   "cell_type": "code",
   "execution_count": null,
   "metadata": {},
   "outputs": [],
   "source": [
    "response = requests.get(url_clima).json()\n",
    "response"
   ]
  },
  {
   "cell_type": "code",
   "execution_count": null,
   "metadata": {},
   "outputs": [],
   "source": [
    "response.keys()"
   ]
  },
  {
   "cell_type": "code",
   "execution_count": null,
   "metadata": {},
   "outputs": [],
   "source": [
    "response['forecast']['forecastday'][0].keys()"
   ]
  },
  {
   "cell_type": "code",
   "execution_count": null,
   "metadata": {},
   "outputs": [],
   "source": [
    "len(response['forecast']['forecastday'][0]['hour'])"
   ]
  },
  {
   "cell_type": "code",
   "execution_count": null,
   "metadata": {},
   "outputs": [],
   "source": [
    "response['forecast']['forecastday'][0]['hour'][0]"
   ]
  },
  {
   "cell_type": "code",
   "execution_count": null,
   "metadata": {},
   "outputs": [],
   "source": [
    "response['forecast']['forecastday'][0]['hour'][0]['time']"
   ]
  },
  {
   "cell_type": "code",
   "execution_count": null,
   "metadata": {},
   "outputs": [],
   "source": [
    "# fecha \n",
    "response['forecast']['forecastday'][0]['hour'][0]['time'].split()[0]"
   ]
  },
  {
   "cell_type": "code",
   "execution_count": null,
   "metadata": {},
   "outputs": [],
   "source": [
    "# hora del dia \n",
    "int (response['forecast']['forecastday'][0]['hour'][0]['time'].split()[1].split(':')[0])"
   ]
  },
  {
   "cell_type": "code",
   "execution_count": null,
   "metadata": {},
   "outputs": [],
   "source": [
    "# condicion del clima\n",
    "response['forecast']['forecastday'][0]['hour'][0]['condition']['text']"
   ]
  },
  {
   "cell_type": "code",
   "execution_count": null,
   "metadata": {},
   "outputs": [],
   "source": [
    "# tenperatura en celsius\n",
    "response['forecast']['forecastday'][0]['hour'][0]['temp_c']"
   ]
  },
  {
   "cell_type": "code",
   "execution_count": null,
   "metadata": {},
   "outputs": [],
   "source": [
    "# will_it_rain nos dice si llovera o no (1;0)\n",
    "response['forecast']['forecastday'][0]['hour'][0]['will_it_rain']"
   ]
  },
  {
   "cell_type": "code",
   "execution_count": null,
   "metadata": {},
   "outputs": [],
   "source": [
    "# probabilidad de lluvia %\n",
    "response['forecast']['forecastday'][0]['hour'][2]['chance_of_rain']"
   ]
  },
  {
   "cell_type": "markdown",
   "metadata": {},
   "source": [
    "### Creando mi DATAFRAME"
   ]
  },
  {
   "cell_type": "code",
   "execution_count": null,
   "metadata": {},
   "outputs": [],
   "source": [
    "# funcion para obtener todos los datos necesarios\n",
    "def get_forecast(response,i):\n",
    "    \n",
    "    fecha = response['forecast']['forecastday'][0]['hour'][i]['time'].split()[0]\n",
    "    hora = int(response['forecast']['forecastday'][0]['hour'][i]['time'].split()[1].split(':')[0])\n",
    "    condicion = response['forecast']['forecastday'][0]['hour'][i]['condition']['text']\n",
    "    tempe = float(response['forecast']['forecastday'][0]['hour'][i]['temp_c'])\n",
    "    rain = response['forecast']['forecastday'][0]['hour'][i]['will_it_rain']\n",
    "    prob_rain = response['forecast']['forecastday'][0]['hour'][i]['chance_of_rain']\n",
    "    \n",
    "    return fecha,hora,condicion,tempe,rain,prob_rain"
   ]
  },
  {
   "cell_type": "code",
   "execution_count": null,
   "metadata": {},
   "outputs": [],
   "source": [
    "datos = []\n",
    "\n",
    "for i in tqdm(range(len(response['forecast']['forecastday'][0]['hour'])),colour = 'green'):\n",
    "    \n",
    "    datos.append(get_forecast(response,i))"
   ]
  },
  {
   "cell_type": "code",
   "execution_count": null,
   "metadata": {},
   "outputs": [],
   "source": [
    "datos"
   ]
  },
  {
   "cell_type": "code",
   "execution_count": null,
   "metadata": {},
   "outputs": [],
   "source": [
    "# DATAFRAME\n",
    "\n",
    "col = ['Fecha','Hora','Condicion','Temperatura','Lluvia','prob_lluvia']\n",
    "df = pd.DataFrame(datos,columns=col)\n",
    "df = df.sort_values(by = 'Hora',ascending = True)\n",
    "df"
   ]
  },
  {
   "cell_type": "code",
   "execution_count": null,
   "metadata": {},
   "outputs": [],
   "source": [
    "# FILTRAMOS SOLO SI LLUEVE\n",
    "#df[df['Lluvia']==1]"
   ]
  },
  {
   "cell_type": "code",
   "execution_count": null,
   "metadata": {},
   "outputs": [],
   "source": [
    "# FILTRAMOS LAS HORAS QUE NECESITAMOS y si queremos podemos crear otro filtro para una consicion climatica en especial en este caso solo filtramos un rango de horas\n",
    "\n",
    "df_rain =  df[(df['Hora']>10) & (df['Hora']< 19)]\n",
    "df_rain = df_rain[['Hora','Condicion']]\n",
    "df_rain.set_index('Hora', inplace = True)\n",
    "df_rain"
   ]
  },
  {
   "cell_type": "code",
   "execution_count": null,
   "metadata": {},
   "outputs": [],
   "source": [
    "# ejemplo de mensaje que llegara al telefono (no llegara asi de desordenado, llegara formteado)\n",
    "'\\nHola! \\n\\n\\n El pronostico del tiempo hoy '+ df['Fecha'][0] +' en ' + query +' es : \\n\\n\\n ' + str(df_rain)"
   ]
  },
  {
   "cell_type": "code",
   "execution_count": null,
   "metadata": {},
   "outputs": [],
   "source": [
    "# numero de telefono que compramos para hacer las pruebas\n",
    "PHONE_NUMBER"
   ]
  },
  {
   "cell_type": "markdown",
   "metadata": {},
   "source": [
    "#### ENVINDO MENSAJE SMS CON TWILIO"
   ]
  },
  {
   "cell_type": "code",
   "execution_count": null,
   "metadata": {},
   "outputs": [],
   "source": [
    "time.sleep(2)\n",
    "account_sid = TWILIO_ACCOUNT_SID\n",
    "auth_token = TWILIO_AUTH_TOKEN\n",
    "client = Client(account_sid, auth_token)\n",
    "\n",
    "message = client.messages.create(\n",
    "    from_='+12623846544',\n",
    "    body='\\nHola! \\n\\n\\n El pronostico del tiempo hoy '+ df['Fecha'][0] +' en ' + query +' es : \\n\\n\\n ' + str(df_rain),\n",
    "    to='+56965747898'\n",
    ")\n",
    "\n",
    "print('Mensaje Enviado ' + message.sid)"
   ]
  }
 ],
 "metadata": {
  "kernelspec": {
   "display_name": "base",
   "language": "python",
   "name": "python3"
  },
  "language_info": {
   "codemirror_mode": {
    "name": "ipython",
    "version": 3
   },
   "file_extension": ".py",
   "mimetype": "text/x-python",
   "name": "python",
   "nbconvert_exporter": "python",
   "pygments_lexer": "ipython3",
   "version": "3.12.7"
  }
 },
 "nbformat": 4,
 "nbformat_minor": 2
}
